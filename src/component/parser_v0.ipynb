{
 "cells": [
  {
   "cell_type": "code",
   "execution_count": 21,
   "id": "87f04d1b",
   "metadata": {},
   "outputs": [],
   "source": [
    "from pathlib import Path\n",
    "import re, json, pdfplumber\n",
    "\n",
    "def find_repo_root(start=Path.cwd()):\n",
    "    for p in [start, *start.parents]:\n",
    "        if (p / \".git\").exists():\n",
    "            return p\n",
    "    return Path.cwd()\n",
    "\n",
    "ROOT = find_repo_root()\n",
    "IN_DIR = ROOT / \"src\" / \"docs\"          # adjust if you moved PDFs\n",
    "OUT_DIR = ROOT / \"output\"\n",
    "OUT_DIR.mkdir(parents=True, exist_ok=True)\n",
    "\n",
    "# Broader AFSC patterns (allow optional suffix letters)\n",
    "AFSC_PATTERNS = [\n",
    "    re.compile(r\"\\b\\d{1}[A-Z]\\d[A-Z]\\d[A-Z]?\\b\"),    # enlisted e.g., 1N4X1, 1N4X1A\n",
    "    re.compile(r\"\\b\\d{2}[A-Z]\\d[A-Z]?\\b\"),           # officer e.g., 11F3, 11F3A\n",
    "]\n",
    "\n",
    "def guess_section(lines):\n",
    "    for ln in lines[:12]:\n",
    "        if any(p.search(ln) for p in AFSC_PATTERNS):\n",
    "            return ln.strip()\n",
    "    for ln in lines[:12]:\n",
    "        t = ln.strip()\n",
    "        if len(t) > 4 and t.isupper():\n",
    "            return t\n",
    "    return None\n",
    "\n",
    "def clean_text(t: str) -> str:\n",
    "    t = t.replace(\"\\u00ad\", \"\")                   # soft hyphen\n",
    "    t = re.sub(r\"(\\w)-\\n(\\w)\", r\"\\1\\2\", t)       # join hyphenated linebreaks\n",
    "    t = re.sub(r\"[ \\t]+\", \" \", t)\n",
    "    t = re.sub(r\"\\n{2,}\", \"\\n\\n\", t)\n",
    "    return t.strip()\n",
    "\n",
    "def parse_pdf_to_jsonl(pdf_path, doc_id, doc_title, source_type, source_url=\"\", version_date=\"\", output_path=None):\n",
    "    out_path = Path(output_path) if output_path else (OUT_DIR / f\"{doc_id}.jsonl\")\n",
    "    out_path.parent.mkdir(parents=True, exist_ok=True)\n",
    "    wrote, empty = 0, 0\n",
    "\n",
    "    with pdfplumber.open(pdf_path) as pdf, open(out_path, \"w\", encoding=\"utf-8\") as out:\n",
    "        for i, page in enumerate(pdf.pages, start=1):\n",
    "            try:\n",
    "                txt = page.extract_text() or \"\"\n",
    "            except Exception as e:\n",
    "                txt = \"\"\n",
    "            txt = clean_text(txt)\n",
    "            if not txt:\n",
    "                empty += 1\n",
    "            lines = [ln for ln in txt.splitlines() if ln.strip()]\n",
    "            section = guess_section(lines)\n",
    "            rec = {\n",
    "                \"doc_id\": doc_id, \"doc_title\": doc_title,\n",
    "                \"source_type\": source_type, \"source_url\": source_url,\n",
    "                \"version_date\": version_date, \"page\": i,\n",
    "                \"section\": section, \"span_start\": 0, \"span_end\": len(txt),\n",
    "                \"text\": txt,\n",
    "            }\n",
    "            out.write(json.dumps(rec, ensure_ascii=False) + \"\\n\")\n",
    "            wrote += 1\n",
    "\n",
    "    # tiny manifest for sanity\n",
    "    (OUT_DIR / f\"{doc_id}__manifest.json\").write_text(\n",
    "        json.dumps({\"doc_id\": doc_id, \"pages\": wrote, \"empty_pages\": empty, \"output\": str(out_path)}, indent=2),\n",
    "        encoding=\"utf-8\"\n",
    "    )\n",
    "    print(f\"[{doc_id}] pages={wrote}, empty_pages={empty} → {out_path}\")\n",
    "    return out_path\n"
   ]
  },
  {
   "cell_type": "code",
   "execution_count": 22,
   "id": "14db09e5",
   "metadata": {},
   "outputs": [
    {
     "name": "stdout",
     "output_type": "stream",
     "text": [
      "Parser functions loaded successfully!\n"
     ]
    }
   ],
   "source": [
    "# PDF → JSONL with page text + provenance\n",
    "import json\n",
    "import re\n",
    "from pathlib import Path\n",
    "import pdfplumber\n",
    "\n",
    "AFSC_PATTERNS = [\n",
    "    re.compile(r\"\\b\\d[A-Z]\\d[A-Z]\\d\\b\"),   # e.g., 1N4X1\n",
    "    re.compile(r\"\\b\\d{2}[A-Z]\\d\\b\"),       # e.g., 11F3\n",
    "]\n",
    "\n",
    "def guess_section(lines):\n",
    "    \"\"\"Return the first line that looks like an AFSC header or ALL CAPS heading.\"\"\"\n",
    "    for ln in lines[:12]:\n",
    "        if any(p.search(ln) for p in AFSC_PATTERNS):\n",
    "            return ln.strip()\n",
    "    for ln in lines[:12]:\n",
    "        t = ln.strip()\n",
    "        if len(t) > 4 and t.isupper():\n",
    "            return t\n",
    "    return None\n",
    "\n",
    "def clean_text(t):\n",
    "    t = t.replace(\"\\u00ad\", \"\")      # soft hyphen\n",
    "    t = re.sub(r\"[ \\t]+\", \" \", t)\n",
    "    t = re.sub(r\"\\n{2,}\", \"\\n\\n\", t)\n",
    "    return t.strip()\n",
    "\n",
    "def parse_pdf_to_jsonl(pdf_path, doc_id, doc_title, source_type, source_url=\"\", version_date=\"\", output_path=None):\n",
    "    \"\"\"\n",
    "    Parse PDF to JSONL format with page text and provenance\n",
    "    \"\"\"\n",
    "    if output_path is None:\n",
    "        output_path = f\"../../output/{doc_id}.jsonl\"\n",
    "    \n",
    "    out_path = Path(output_path)\n",
    "    out_path.parent.mkdir(parents=True, exist_ok=True)\n",
    "    \n",
    "    wrote = 0\n",
    "    with pdfplumber.open(pdf_path) as pdf, open(out_path, \"w\", encoding=\"utf-8\") as out:\n",
    "        for i, page in enumerate(pdf.pages, start=1):\n",
    "            txt = page.extract_text() or \"\"\n",
    "            txt = clean_text(txt)\n",
    "            lines = [ln for ln in txt.splitlines() if ln.strip()]\n",
    "            section = guess_section(lines)\n",
    "            \n",
    "            rec = {\n",
    "                \"doc_id\": doc_id,\n",
    "                \"doc_title\": doc_title,\n",
    "                \"source_type\": source_type,\n",
    "                \"source_url\": source_url,\n",
    "                \"version_date\": version_date,\n",
    "                \"page\": i,\n",
    "                \"section\": section,\n",
    "                \"span_start\": 0,\n",
    "                \"span_end\": len(txt),\n",
    "                \"text\": txt,\n",
    "            }\n",
    "            out.write(json.dumps(rec, ensure_ascii=False) + \"\\n\")\n",
    "            wrote += 1\n",
    "    \n",
    "    print(f\"Wrote {wrote} page records → {out_path}\")\n",
    "    return out_path\n",
    "\n",
    "# Test the function\n",
    "print(\"Parser functions loaded successfully!\")"
   ]
  },
  {
   "cell_type": "code",
   "execution_count": 23,
   "id": "13ce241f",
   "metadata": {},
   "outputs": [
    {
     "name": "stdout",
     "output_type": "stream",
     "text": [
      "Wrote 305 page records → ..\\..\\output\\AFOCD_2024.jsonl\n"
     ]
    },
    {
     "name": "stderr",
     "output_type": "stream",
     "text": [
      "Cannot set gray non-stroke color because /'P0' is an invalid float value\n",
      "Cannot set gray non-stroke color because /'P1' is an invalid float value\n",
      "Cannot set gray non-stroke color because /'P2' is an invalid float value\n",
      "Cannot set gray non-stroke color because /'P3' is an invalid float value\n",
      "Cannot set gray non-stroke color because /'P4' is an invalid float value\n",
      "Cannot set gray non-stroke color because /'P5' is an invalid float value\n",
      "Cannot set gray non-stroke color because /'P6' is an invalid float value\n",
      "Cannot set gray non-stroke color because /'P7' is an invalid float value\n"
     ]
    },
    {
     "name": "stdout",
     "output_type": "stream",
     "text": [
      "Wrote 410 page records → ..\\..\\output\\AFECD_2024.jsonl\n"
     ]
    }
   ],
   "source": [
    "# Parse AFOCD\n",
    "afocd_output = parse_pdf_to_jsonl(\n",
    "    pdf_path=\"../../src/docs/AFOCD_2024.pdf\",\n",
    "    doc_id=\"AFOCD_2024\", \n",
    "    doc_title=\"Air Force Officer Classification Directory 2024\",\n",
    "    source_type=\"AFOCD\",\n",
    "    version_date=\"2024-04-01\"\n",
    ")\n",
    "\n",
    "# Parse AFECD  \n",
    "afecd_output = parse_pdf_to_jsonl(\n",
    "    pdf_path=\"../../src/docs/AFECD_2024.pdf\",\n",
    "    doc_id=\"AFECD_2024\",\n",
    "    doc_title=\"Air Force Enlisted Classification Directory 2024\", \n",
    "    source_type=\"AFECD\",\n",
    "    version_date=\"2024-04-01\"\n",
    ")"
   ]
  },
  {
   "cell_type": "code",
   "execution_count": 24,
   "id": "c1a1b7fb",
   "metadata": {},
   "outputs": [
    {
     "name": "stdout",
     "output_type": "stream",
     "text": [
      "AFOCD total lines: 305\n",
      "\n",
      "First record sample:\n",
      "doc_id: AFOCD_2024\n",
      "doc_title: Air Force Officer Classification Directory 2024\n",
      "source_type: AFOCD\n",
      "source_url: \n",
      "version_date: 2024-04-01\n",
      "page: 1\n",
      "section: DEPARTMENT OF THE AIR FORCE\n",
      "span_start: 0\n",
      "span_end: 265\n",
      "text: DAFOCD, 31 Oct 24\n",
      "31 October 2024\n",
      "DEPARTMENT OF THE AIR FORCE\n",
      "OFFICER CLASSIFICATION DIRECTORY\n",
      "(DAFO...\n"
     ]
    }
   ],
   "source": [
    "# Check the output files exist and examine a sample\n",
    "import json\n",
    "\n",
    "# Load and examine first few records from AFOCD\n",
    "with open(\"../../output/AFOCD_2024.jsonl\", \"r\", encoding=\"utf-8\") as f:\n",
    "    afocd_lines = f.readlines()\n",
    "\n",
    "print(f\"AFOCD total lines: {len(afocd_lines)}\")\n",
    "print(\"\\nFirst record sample:\")\n",
    "first_record = json.loads(afocd_lines[0])\n",
    "for key, value in first_record.items():\n",
    "    if key == \"text\":\n",
    "        print(f\"{key}: {value[:100]}...\" if len(str(value)) > 100 else f\"{key}: {value}\")\n",
    "    else:\n",
    "        print(f\"{key}: {value}\")"
   ]
  },
  {
   "cell_type": "code",
   "execution_count": 25,
   "id": "38e73a09",
   "metadata": {},
   "outputs": [
    {
     "name": "stdout",
     "output_type": "stream",
     "text": [
      "Section detection sample:\n",
      "Page 1: DEPARTMENT OF THE AIR FORCE\n",
      "Page 2: SUMMARY OF REVISIONS\n",
      "Page 3: DAFOCD\n",
      "Page 4: SECTION I\n",
      "Page 5: SECTION I-A\n",
      "Page 6: SECTION I-B\n",
      "Page 7: PREFIX B\n",
      "Page 8: PREFIX C\n",
      "Page 9: PREFIX D\n",
      "Page 10: PREFIX E\n"
     ]
    }
   ],
   "source": [
    "# Examine section detection across multiple pages\n",
    "sections_found = []\n",
    "for i in range(min(10, len(afocd_lines))):  # Check first 10 pages\n",
    "    record = json.loads(afocd_lines[i])\n",
    "    sections_found.append({\n",
    "        'page': record['page'], \n",
    "        'section': record['section']\n",
    "    })\n",
    "\n",
    "print(\"Section detection sample:\")\n",
    "for item in sections_found:\n",
    "    print(f\"Page {item['page']}: {item['section']}\")"
   ]
  },
  {
   "cell_type": "code",
   "execution_count": 26,
   "id": "04e18d39",
   "metadata": {},
   "outputs": [
    {
     "name": "stdout",
     "output_type": "stream",
     "text": [
      "Files in output directory:\n",
      "AFECD_2024.jsonl: 1.48 MB\n",
      "AFOCD_2024.jsonl: 0.92 MB\n"
     ]
    }
   ],
   "source": [
    "# Check the output file sizes\n",
    "import os\n",
    "print(\"Files in output directory:\")\n",
    "for file in os.listdir(\"../../output/\"):\n",
    "    file_path = os.path.join(\"../../output/\", file)\n",
    "    if os.path.isfile(file_path):\n",
    "        size_mb = os.path.getsize(file_path) / (1024*1024)\n",
    "        print(f\"{file}: {size_mb:.2f} MB\")"
   ]
  },
  {
   "cell_type": "code",
   "execution_count": null,
   "id": "b2c1c26c",
   "metadata": {},
   "outputs": [],
   "source": []
  }
 ],
 "metadata": {
  "kernelspec": {
   "display_name": "capstone",
   "language": "python",
   "name": "python3"
  },
  "language_info": {
   "codemirror_mode": {
    "name": "ipython",
    "version": 3
   },
   "file_extension": ".py",
   "mimetype": "text/x-python",
   "name": "python",
   "nbconvert_exporter": "python",
   "pygments_lexer": "ipython3",
   "version": "3.10.18"
  }
 },
 "nbformat": 4,
 "nbformat_minor": 5
}
