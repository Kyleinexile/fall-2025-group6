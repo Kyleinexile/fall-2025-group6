{
 "cells": [
  {
   "cell_type": "markdown",
   "id": "112ef15e",
   "metadata": {},
   "source": [
    "### 1) Setup & Imports\n",
    "This section prepares the Python environment for the validation task. It loads essential libraries (pandas, numpy, matplotlib and sentence transformers). \n",
    "The code suppresses warning messages that would clutter the output and explicitly tells the system to use my CPU rather than GPU.\n"
   ]
  },
  {
   "cell_type": "code",
   "execution_count": 1,
   "id": "942996a5",
   "metadata": {},
   "outputs": [
    {
     "name": "stderr",
     "output_type": "stream",
     "text": [
      "c:\\Users\\Kyle\\anaconda3\\envs\\capstone\\lib\\site-packages\\tqdm\\auto.py:21: TqdmWarning: IProgress not found. Please update jupyter and ipywidgets. See https://ipywidgets.readthedocs.io/en/stable/user_install.html\n",
      "  from .autonotebook import tqdm as notebook_tqdm\n"
     ]
    },
    {
     "name": "stdout",
     "output_type": "stream",
     "text": [
      "Environment ready (CPU mode).\n"
     ]
    }
   ],
   "source": [
    "# Optional (uncomment if you need to install UMAP from within Jupyter)\n",
    "# !pip install umap-learn --quiet\n",
    "\n",
    "import os\n",
    "import warnings\n",
    "from pathlib import Path\n",
    "\n",
    "import numpy as np\n",
    "import pandas as pd\n",
    "import matplotlib.pyplot as plt\n",
    "\n",
    "from sentence_transformers import SentenceTransformer\n",
    "\n",
    "# Quieter logs/warnings\n",
    "os.environ[\"HF_HUB_DISABLE_SYMLINKS_WARNING\"] = \"1\"\n",
    "warnings.filterwarnings(\"ignore\")\n",
    "\n",
    "# Use CPU explicitly (GPU is not required)\n",
    "DEVICE = \"cpu\"\n",
    "\n",
    "# Pretty printing of arrays / data\n",
    "np.set_printoptions(precision=4, suppress=True)\n",
    "pd.set_option(\"display.max_colwidth\", 140)\n",
    "\n",
    "print(\"Environment ready (CPU mode).\")\n"
   ]
  },
  {
   "cell_type": "markdown",
   "id": "5328268b",
   "metadata": {},
   "source": [
    "### 2) Load the Data\n",
    "This reads the KSA extraction CSV file and prepares it for analysis. First, it standardizes all column names (removes spaces, converts to lowercase) to prevent errors. Then it filters to keep only \"skill\" type records since we're validating skills specifically. The code includes safety features that handle missing data gracefully - if a column like \"evidence_snippet\" doesn't exist or has empty values, it fills them with blank strings rather than crashing. It also searches for ESCO tags under various possible column names (esco_tag, esco, skill_tag, etc.) to handle different file formats."
   ]
  },
  {
   "cell_type": "code",
   "execution_count": 2,
   "id": "1cd6908d",
   "metadata": {},
   "outputs": [
    {
     "name": "stdout",
     "output_type": "stream",
     "text": [
      "Loaded 65 skill rows for validation.\n"
     ]
    },
    {
     "data": {
      "text/html": [
       "<div>\n",
       "<style scoped>\n",
       "    .dataframe tbody tr th:only-of-type {\n",
       "        vertical-align: middle;\n",
       "    }\n",
       "\n",
       "    .dataframe tbody tr th {\n",
       "        vertical-align: top;\n",
       "    }\n",
       "\n",
       "    .dataframe thead th {\n",
       "        text-align: right;\n",
       "    }\n",
       "</style>\n",
       "<table border=\"1\" class=\"dataframe\">\n",
       "  <thead>\n",
       "    <tr style=\"text-align: right;\">\n",
       "      <th></th>\n",
       "      <th>job_id</th>\n",
       "      <th>description</th>\n",
       "      <th>text</th>\n",
       "      <th>knowledge_required</th>\n",
       "      <th>task_abilities</th>\n",
       "      <th>skill_tag</th>\n",
       "      <th>confidence</th>\n",
       "      <th>type</th>\n",
       "      <th>description</th>\n",
       "      <th>afsc</th>\n",
       "      <th>title</th>\n",
       "      <th>category</th>\n",
       "      <th>evidence_snippet</th>\n",
       "      <th>source_method</th>\n",
       "      <th>doc_id</th>\n",
       "      <th>section</th>\n",
       "      <th>page</th>\n",
       "      <th>parent_skills</th>\n",
       "      <th>review_status</th>\n",
       "      <th>esco_tag</th>\n",
       "    </tr>\n",
       "  </thead>\n",
       "  <tbody>\n",
       "    <tr>\n",
       "      <th>7</th>\n",
       "      <td>manual::11F3</td>\n",
       "      <td>AFSC 11F4*, Staff AFSC 11F3*, Flight Lead AFSC 11F2*, Wingman AFSC 11F1*, Entry/Student FIGHTER PILOT (Changed 30 Apr 23) 1. Specialty S...</td>\n",
       "      <td>train air force crew</td>\n",
       "      <td>[]</td>\n",
       "      <td>[]</td>\n",
       "      <td>ESCO.2859</td>\n",
       "      <td>0.593154</td>\n",
       "      <td>skill</td>\n",
       "      <td>AFSC 11F4*, Staff AFSC 11F3*, Flight Lead AFSC 11F2*, Wingman AFSC 11F1*, Entry/Student FIGHTER PILOT (Changed 30 Apr 23) 1. Specialty S...</td>\n",
       "      <td>11F3</td>\n",
       "      <td>FIGHTER PILOT</td>\n",
       "      <td>Operations</td>\n",
       "      <td></td>\n",
       "      <td>laiser</td>\n",
       "      <td>NaN</td>\n",
       "      <td>NaN</td>\n",
       "      <td>NaN</td>\n",
       "      <td>NaN</td>\n",
       "      <td>reviewed</td>\n",
       "      <td>ESCO.2859</td>\n",
       "    </tr>\n",
       "    <tr>\n",
       "      <th>8</th>\n",
       "      <td>manual::11F3</td>\n",
       "      <td>AFSC 11F4*, Staff AFSC 11F3*, Flight Lead AFSC 11F2*, Wingman AFSC 11F1*, Entry/Student FIGHTER PILOT (Changed 30 Apr 23) 1. Specialty S...</td>\n",
       "      <td>military aviation</td>\n",
       "      <td>[]</td>\n",
       "      <td>[]</td>\n",
       "      <td>ESCO.6338</td>\n",
       "      <td>0.588426</td>\n",
       "      <td>skill</td>\n",
       "      <td>AFSC 11F4*, Staff AFSC 11F3*, Flight Lead AFSC 11F2*, Wingman AFSC 11F1*, Entry/Student FIGHTER PILOT (Changed 30 Apr 23) 1. Specialty S...</td>\n",
       "      <td>11F3</td>\n",
       "      <td>FIGHTER PILOT</td>\n",
       "      <td>Operations</td>\n",
       "      <td></td>\n",
       "      <td>laiser</td>\n",
       "      <td>NaN</td>\n",
       "      <td>NaN</td>\n",
       "      <td>NaN</td>\n",
       "      <td>NaN</td>\n",
       "      <td>reviewed</td>\n",
       "      <td>ESCO.6338</td>\n",
       "    </tr>\n",
       "    <tr>\n",
       "      <th>9</th>\n",
       "      <td>manual::11F3</td>\n",
       "      <td>AFSC 11F4*, Staff AFSC 11F3*, Flight Lead AFSC 11F2*, Wingman AFSC 11F1*, Entry/Student FIGHTER PILOT (Changed 30 Apr 23) 1. Specialty S...</td>\n",
       "      <td>air force operations</td>\n",
       "      <td>[]</td>\n",
       "      <td>[]</td>\n",
       "      <td>ESCO.9897</td>\n",
       "      <td>0.553011</td>\n",
       "      <td>skill</td>\n",
       "      <td>AFSC 11F4*, Staff AFSC 11F3*, Flight Lead AFSC 11F2*, Wingman AFSC 11F1*, Entry/Student FIGHTER PILOT (Changed 30 Apr 23) 1. Specialty S...</td>\n",
       "      <td>11F3</td>\n",
       "      <td>FIGHTER PILOT</td>\n",
       "      <td>Operations</td>\n",
       "      <td></td>\n",
       "      <td>laiser</td>\n",
       "      <td>NaN</td>\n",
       "      <td>NaN</td>\n",
       "      <td>NaN</td>\n",
       "      <td>NaN</td>\n",
       "      <td>reviewed</td>\n",
       "      <td>ESCO.9897</td>\n",
       "    </tr>\n",
       "  </tbody>\n",
       "</table>\n",
       "</div>"
      ],
      "text/plain": [
       "         job_id  \\\n",
       "7  manual::11F3   \n",
       "8  manual::11F3   \n",
       "9  manual::11F3   \n",
       "\n",
       "                                                                                                                                   description  \\\n",
       "7  AFSC 11F4*, Staff AFSC 11F3*, Flight Lead AFSC 11F2*, Wingman AFSC 11F1*, Entry/Student FIGHTER PILOT (Changed 30 Apr 23) 1. Specialty S...   \n",
       "8  AFSC 11F4*, Staff AFSC 11F3*, Flight Lead AFSC 11F2*, Wingman AFSC 11F1*, Entry/Student FIGHTER PILOT (Changed 30 Apr 23) 1. Specialty S...   \n",
       "9  AFSC 11F4*, Staff AFSC 11F3*, Flight Lead AFSC 11F2*, Wingman AFSC 11F1*, Entry/Student FIGHTER PILOT (Changed 30 Apr 23) 1. Specialty S...   \n",
       "\n",
       "                   text knowledge_required task_abilities  skill_tag  \\\n",
       "7  train air force crew                 []             []  ESCO.2859   \n",
       "8     military aviation                 []             []  ESCO.6338   \n",
       "9  air force operations                 []             []  ESCO.9897   \n",
       "\n",
       "   confidence   type  \\\n",
       "7    0.593154  skill   \n",
       "8    0.588426  skill   \n",
       "9    0.553011  skill   \n",
       "\n",
       "                                                                                                                                   description  \\\n",
       "7  AFSC 11F4*, Staff AFSC 11F3*, Flight Lead AFSC 11F2*, Wingman AFSC 11F1*, Entry/Student FIGHTER PILOT (Changed 30 Apr 23) 1. Specialty S...   \n",
       "8  AFSC 11F4*, Staff AFSC 11F3*, Flight Lead AFSC 11F2*, Wingman AFSC 11F1*, Entry/Student FIGHTER PILOT (Changed 30 Apr 23) 1. Specialty S...   \n",
       "9  AFSC 11F4*, Staff AFSC 11F3*, Flight Lead AFSC 11F2*, Wingman AFSC 11F1*, Entry/Student FIGHTER PILOT (Changed 30 Apr 23) 1. Specialty S...   \n",
       "\n",
       "   afsc          title    category evidence_snippet source_method doc_id  \\\n",
       "7  11F3  FIGHTER PILOT  Operations                         laiser    NaN   \n",
       "8  11F3  FIGHTER PILOT  Operations                         laiser    NaN   \n",
       "9  11F3  FIGHTER PILOT  Operations                         laiser    NaN   \n",
       "\n",
       "  section  page parent_skills review_status   esco_tag  \n",
       "7     NaN   NaN           NaN      reviewed  ESCO.2859  \n",
       "8     NaN   NaN           NaN      reviewed  ESCO.6338  \n",
       "9     NaN   NaN           NaN      reviewed  ESCO.9897  "
      ]
     },
     "execution_count": 2,
     "metadata": {},
     "output_type": "execute_result"
    }
   ],
   "source": [
    "# --- Configure your input path here ---\n",
    "DATA_PATH = Path(r\"C:\\Users\\Kyle\\OneDrive\\Desktop\\Capstone\\fall-2025-group6\\src\\Data\\Manual Extraction\\ksa_enhanced\\ksa_extractions_enhanced_cleaned.csv\")\n",
    "\n",
    "# Load\n",
    "df = pd.read_csv(DATA_PATH)\n",
    "\n",
    "# Normalize column names for safety\n",
    "df = df.rename(columns={c: c.strip().lower().replace(\" \", \"_\") for c in df.columns})\n",
    "\n",
    "# Keep skills only\n",
    "skills = df[df[\"type\"].str.lower() == \"skill\"].copy()\n",
    "\n",
    "# Safe getters\n",
    "skills[\"text\"] = skills[\"text\"].fillna(\"\").astype(str)\n",
    "skills[\"evidence_snippet\"] = skills.get(\"evidence_snippet\", \"\").fillna(\"\").astype(str)\n",
    "skills[\"afsc\"] = skills.get(\"afsc\", \"\").astype(str)\n",
    "\n",
    "# ESCO tag may be under different names; unify into one column\n",
    "esco_col = next((c for c in [\"esco_tag\", \"esco\", \"skill_tag\", \"skilltag\", \"esco_label\"] if c in skills.columns), None)\n",
    "skills[\"esco_tag\"] = skills[esco_col].fillna(\"\").astype(str) if esco_col else \"\"\n",
    "\n",
    "print(f\"Loaded {len(skills)} skill rows for validation.\")\n",
    "skills.head(3)\n"
   ]
  },
  {
   "cell_type": "markdown",
   "id": "b16fe33b",
   "metadata": {},
   "source": [
    "### 3) Configure the Embedding Model\n",
    "This loads a pre-trained language model (E5-base-v2) that converts text into mathematical vectors (embeddings). These vectors capture the meaning of text in 768 dimensions, allowing us to measure how similar two pieces of text are. The helper function adds a \"passage:\" prefix to each text (which improves the model's performance) and normalizes the vectors so their length equals 1. This normalization trick means we can use simple dot products to calculate cosine similarity later."
   ]
  },
  {
   "cell_type": "code",
   "execution_count": 3,
   "id": "d8e0e570",
   "metadata": {},
   "outputs": [],
   "source": [
    "MODEL_NAME = \"intfloat/e5-base-v2\"\n",
    "model = SentenceTransformer(MODEL_NAME, device=DEVICE)\n",
    "\n",
    "def embed(texts):\n",
    "    \"\"\"Return L2-normalized embeddings for a list of strings.\"\"\"\n",
    "    if not isinstance(texts, (list, tuple)):\n",
    "        texts = [texts]\n",
    "    # E5 performs best with prefix formatting\n",
    "    texts = [f\"passage: {t}\" if t and not t.startswith(\"passage:\") else (t or \"\") for t in texts]\n",
    "    embs = model.encode(texts, normalize_embeddings=True, batch_size=32, convert_to_numpy=True)\n",
    "    return embs\n"
   ]
  },
  {
   "cell_type": "markdown",
   "id": "6bb847e2",
   "metadata": {},
   "source": [
    "### 4) Compute Cosine Similarities\n",
    "This is the core validation step. The code converts three text elements into vectors: the extracted skill, its source evidence, and its ESCO label. Then it calculates how similar these vectors are using cosine similarity (ranging from -1 to 1, where 1 means identical meaning). High similarity between skill and evidence confirms the extraction is well-grounded in the source text. High similarity between skill and ESCO validates proper taxonomy alignment. The describe() function shows statistics like mean and standard deviation to assess overall quality."
   ]
  },
  {
   "cell_type": "code",
   "execution_count": 4,
   "id": "f547aa67",
   "metadata": {},
   "outputs": [
    {
     "name": "stdout",
     "output_type": "stream",
     "text": [
      "=== Similarity (Skill vs Evidence) ===\n",
      "count    65.000000\n",
      "mean      0.747818\n",
      "std       0.019423\n",
      "min       0.718716\n",
      "25%       0.731501\n",
      "50%       0.748496\n",
      "75%       0.754544\n",
      "max       0.816520\n",
      "Name: sim_skill_evidence, dtype: float64 \n",
      "\n",
      "=== Similarity (Skill vs ESCO) ===\n",
      "count    65.000000\n",
      "mean      0.741805\n",
      "std       0.012779\n",
      "min       0.704031\n",
      "25%       0.736576\n",
      "50%       0.742479\n",
      "75%       0.746878\n",
      "max       0.770654\n",
      "Name: sim_skill_esco, dtype: float64\n"
     ]
    }
   ],
   "source": [
    "# Prepare text lists\n",
    "skill_text = skills[\"text\"].tolist()\n",
    "evidence_text = skills[\"evidence_snippet\"].tolist()\n",
    "esco_text = skills[\"esco_tag\"].tolist()\n",
    "\n",
    "# Compute embeddings\n",
    "emb_skill = embed(skill_text)\n",
    "emb_evid  = embed(evidence_text)\n",
    "emb_esco  = embed(esco_text)\n",
    "\n",
    "# Cosine similarity (dot product of normalized vectors)\n",
    "skills[\"sim_skill_evidence\"] = (emb_skill * emb_evid).sum(axis=1)\n",
    "skills[\"sim_skill_esco\"]     = (emb_skill * emb_esco).sum(axis=1)\n",
    "\n",
    "print(\"=== Similarity (Skill vs Evidence) ===\")\n",
    "print(skills[\"sim_skill_evidence\"].describe(), \"\\n\")\n",
    "\n",
    "print(\"=== Similarity (Skill vs ESCO) ===\")\n",
    "print(skills[\"sim_skill_esco\"].describe())\n"
   ]
  },
  {
   "cell_type": "markdown",
   "id": "3074b285",
   "metadata": {},
   "source": [
    "### 5) Visualize Skills (UMAP or PCA Fallback)\n",
    "This creates a 2D scatter plot of the skills to visually check if related skills cluster together. UMAP (or PCA as backup) compresses the embeddings down to just 2 dimensions while preserving relationships. Each point represents one skill, colored by its AFSC code. If skills from the same AFSC group together, it confirms the embeddings capture meaningful patterns. Good clustering suggests your extraction pipeline maintains semantic coherence."
   ]
  },
  {
   "cell_type": "code",
   "execution_count": 5,
   "id": "ca22110a",
   "metadata": {},
   "outputs": [
    {
     "data": {
      "image/png": "[encoded data removed]",
      "text/plain": [
       "<Figure size 800x600 with 1 Axes>"
      ]
     },
     "metadata": {},
     "output_type": "display_data"
    }
   ],
   "source": [
    "# Try UMAP first, then fall back to PCA\n",
    "try:\n",
    "    import umap\n",
    "    reducer = umap.UMAP(n_neighbors=30, min_dist=0.05, random_state=42)\n",
    "    coords = reducer.fit_transform(emb_skill)\n",
    "    method = \"UMAP\"\n",
    "except Exception:\n",
    "    from sklearn.decomposition import PCA\n",
    "    reducer = PCA(n_components=2, random_state=42)\n",
    "    coords = reducer.fit_transform(emb_skill)\n",
    "    method = \"PCA (fallback)\"\n",
    "\n",
    "skills[\"x\"] = coords[:, 0]\n",
    "skills[\"y\"] = coords[:, 1]\n",
    "\n",
    "plt.figure(figsize=(8, 6))\n",
    "for afsc, sub in skills.groupby(\"afsc\"):\n",
    "    plt.scatter(sub[\"x\"], sub[\"y\"], s=20, alpha=0.8, label=afsc)\n",
    "\n",
    "plt.title(f\"Skill Embeddings — {method}\")\n",
    "plt.xlabel(\"dim-1\")\n",
    "plt.ylabel(\"dim-2\")\n",
    "plt.legend(title=\"AFSC\", bbox_to_anchor=(1.05, 1), loc=\"upper left\")\n",
    "plt.tight_layout()\n",
    "plt.show()\n"
   ]
  },
  {
   "cell_type": "markdown",
   "id": "cf9f3ad2",
   "metadata": {},
   "source": [
    "### 6) Threshold Flags, Outliers, and Sanity Checks\n",
    "This section identifies potential quality issues by flagging skills with unusually low similarity scores. The thresholds (0.45 for evidence, 0.35 for ESCO) are conservative - anything below will likely need manual review. The code displays the 5 worst-matching skill-evidence pairs so you can inspect what's causing low similarities (often it's just very short text or formatting issues). If you have LAiSER confidence scores, it checks whether high confidence correlates with high similarity, validating the extraction model's self-assessment.\n"
   ]
  },
  {
   "cell_type": "code",
   "execution_count": 6,
   "id": "35f91bc9",
   "metadata": {},
   "outputs": [
    {
     "name": "stdout",
     "output_type": "stream",
     "text": [
      "Potential low evidence sims (< 0.45): 0\n",
      "Potential low ESCO sims    (< 0.35): 0\n",
      "\n",
      "Worst 5 skill↔evidence pairs:\n"
     ]
    },
    {
     "data": {
      "text/html": [
       "<div>\n",
       "<style scoped>\n",
       "    .dataframe tbody tr th:only-of-type {\n",
       "        vertical-align: middle;\n",
       "    }\n",
       "\n",
       "    .dataframe tbody tr th {\n",
       "        vertical-align: top;\n",
       "    }\n",
       "\n",
       "    .dataframe thead th {\n",
       "        text-align: right;\n",
       "    }\n",
       "</style>\n",
       "<table border=\"1\" class=\"dataframe\">\n",
       "  <thead>\n",
       "    <tr style=\"text-align: right;\">\n",
       "      <th></th>\n",
       "      <th>afsc</th>\n",
       "      <th>text</th>\n",
       "      <th>evidence_snippet</th>\n",
       "      <th>sim_skill_evidence</th>\n",
       "    </tr>\n",
       "  </thead>\n",
       "  <tbody>\n",
       "    <tr>\n",
       "      <th>133</th>\n",
       "      <td>21A</td>\n",
       "      <td>supervise maintenance activities in airports</td>\n",
       "      <td></td>\n",
       "      <td>0.718716</td>\n",
       "    </tr>\n",
       "    <tr>\n",
       "      <th>165</th>\n",
       "      <td>2A3</td>\n",
       "      <td>supervise maintenance activities in airports</td>\n",
       "      <td></td>\n",
       "      <td>0.718716</td>\n",
       "    </tr>\n",
       "    <tr>\n",
       "      <th>185</th>\n",
       "      <td>2A5</td>\n",
       "      <td>supervise maintenance activities in airports</td>\n",
       "      <td></td>\n",
       "      <td>0.718716</td>\n",
       "    </tr>\n",
       "    <tr>\n",
       "      <th>66</th>\n",
       "      <td>1A3X1</td>\n",
       "      <td>apply military aviation regulations</td>\n",
       "      <td></td>\n",
       "      <td>0.721616</td>\n",
       "    </tr>\n",
       "    <tr>\n",
       "      <th>134</th>\n",
       "      <td>21A</td>\n",
       "      <td>apply military aviation regulations</td>\n",
       "      <td></td>\n",
       "      <td>0.721616</td>\n",
       "    </tr>\n",
       "  </tbody>\n",
       "</table>\n",
       "</div>"
      ],
      "text/plain": [
       "      afsc                                          text evidence_snippet  \\\n",
       "133    21A  supervise maintenance activities in airports                    \n",
       "165    2A3  supervise maintenance activities in airports                    \n",
       "185    2A5  supervise maintenance activities in airports                    \n",
       "66   1A3X1           apply military aviation regulations                    \n",
       "134    21A           apply military aviation regulations                    \n",
       "\n",
       "     sim_skill_evidence  \n",
       "133            0.718716  \n",
       "165            0.718716  \n",
       "185            0.718716  \n",
       "66             0.721616  \n",
       "134            0.721616  "
      ]
     },
     "metadata": {},
     "output_type": "display_data"
    },
    {
     "name": "stdout",
     "output_type": "stream",
     "text": [
      "\n",
      "Correlation (LAiSER confidence vs Skill↔Evidence sim): -0.168\n"
     ]
    }
   ],
   "source": [
    "# Conservative “possible issue” thresholds (tune as needed)\n",
    "THRESH_EVID = 0.45\n",
    "THRESH_ESCO = 0.35\n",
    "\n",
    "skills[\"flag_low_evidence\"] = skills[\"sim_skill_evidence\"] < THRESH_EVID\n",
    "skills[\"flag_low_esco\"]     = skills[\"sim_skill_esco\"]     < THRESH_ESCO\n",
    "\n",
    "print(f\"Potential low evidence sims (< {THRESH_EVID:.2f}): {skills['flag_low_evidence'].sum()}\")\n",
    "print(f\"Potential low ESCO sims    (< {THRESH_ESCO:.2f}): {skills['flag_low_esco'].sum()}\")\n",
    "\n",
    "# Show 5 weakest matches for evidence (for explainability)\n",
    "print(\"\\nWorst 5 skill↔evidence pairs:\")\n",
    "cols = [\"afsc\", \"text\", \"evidence_snippet\", \"sim_skill_evidence\"]\n",
    "display(skills.nsmallest(5, \"sim_skill_evidence\")[cols])\n",
    "\n",
    "# Optional: check correlation with LAiSER confidence if present\n",
    "if \"confidence\" in skills.columns:\n",
    "    try:\n",
    "        corr = skills[\"confidence\"].astype(float).corr(skills[\"sim_skill_evidence\"])\n",
    "        print(f\"\\nCorrelation (LAiSER confidence vs Skill↔Evidence sim): {corr:.3f}\")\n",
    "    except Exception:\n",
    "        print(\"\\nCould not compute correlation with 'confidence' (non-numeric contents).\")\n"
   ]
  },
  {
   "cell_type": "markdown",
   "id": "1979c1f0",
   "metadata": {},
   "source": [
    "### 7) Sensitivity Sweep\n",
    "This generates a quality report showing what percentage of skills would \"pass\" at different similarity thresholds. For example, it might show that 100% of skills have similarity >0.30, but only 85% have similarity >0.70. This helps justify my chosen thresholds and understand the quality distribution."
   ]
  },
  {
   "cell_type": "code",
   "execution_count": 7,
   "id": "f96fa53e",
   "metadata": {},
   "outputs": [
    {
     "name": "stdout",
     "output_type": "stream",
     "text": [
      "Evidence threshold sweep:\n",
      "  ≥ 0.30: 100.0% pass\n",
      "  ≥ 0.35: 100.0% pass\n",
      "  ≥ 0.40: 100.0% pass\n",
      "  ≥ 0.45: 100.0% pass\n",
      "  ≥ 0.50: 100.0% pass\n",
      "  ≥ 0.55: 100.0% pass\n",
      "  ≥ 0.60: 100.0% pass\n",
      "  ≥ 0.65: 100.0% pass\n",
      "  ≥ 0.70: 100.0% pass\n",
      "  ≥ 0.75:  36.9% pass\n",
      "  ≥ 0.80:   3.1% pass\n",
      "\n",
      "ESCO threshold sweep:\n",
      "  ≥ 0.30: 100.0% pass\n",
      "  ≥ 0.35: 100.0% pass\n",
      "  ≥ 0.40: 100.0% pass\n",
      "  ≥ 0.45: 100.0% pass\n",
      "  ≥ 0.50: 100.0% pass\n",
      "  ≥ 0.55: 100.0% pass\n",
      "  ≥ 0.60: 100.0% pass\n",
      "  ≥ 0.65: 100.0% pass\n",
      "  ≥ 0.70: 100.0% pass\n",
      "  ≥ 0.75:  21.5% pass\n",
      "  ≥ 0.80:   0.0% pass\n"
     ]
    }
   ],
   "source": [
    "import numpy as np\n",
    "\n",
    "print(\"Evidence threshold sweep:\")\n",
    "for t in np.arange(0.30, 0.81, 0.05):\n",
    "    pct = (skills[\"sim_skill_evidence\"] >= t).mean() * 100\n",
    "    print(f\"  ≥ {t:.2f}: {pct:5.1f}% pass\")\n",
    "\n",
    "print(\"\\nESCO threshold sweep:\")\n",
    "for t in np.arange(0.30, 0.81, 0.05):\n",
    "    pct = (skills[\"sim_skill_esco\"] >= t).mean() * 100\n",
    "    print(f\"  ≥ {t:.2f}: {pct:5.1f}% pass\")\n"
   ]
  },
  {
   "cell_type": "markdown",
   "id": "05ba524d",
   "metadata": {},
   "source": [
    "### 8) Save Embeddings\n",
    "This saves all the computed vectors to a compressed numpy file."
   ]
  },
  {
   "cell_type": "code",
   "execution_count": 8,
   "id": "be98ba6b",
   "metadata": {},
   "outputs": [
    {
     "name": "stdout",
     "output_type": "stream",
     "text": [
      "Saved embeddings to C:\\Users\\Kyle\\OneDrive\\Desktop\\Capstone\\fall-2025-group6\\src\\Data\\Manual Extraction\\ksa_enhanced\\embeddings_e5_base_v2.npz\n"
     ]
    }
   ],
   "source": [
    "EMB_OUT = DATA_PATH.parent / \"embeddings_e5_base_v2.npz\"\n",
    "np.savez(\n",
    "    EMB_OUT,\n",
    "    skill=emb_skill,\n",
    "    evidence=emb_evid,\n",
    "    esco=emb_esco,\n",
    ")\n",
    "print(f\"Saved embeddings to {EMB_OUT}\")\n"
   ]
  },
  {
   "cell_type": "markdown",
   "id": "f24738d7",
   "metadata": {},
   "source": [
    "### 9) Export Validation CSV\n",
    "This creates a final CSV report containing your validation results. It includes the original skill text, evidence, and ESCO tags alongside the computed similarity scores and quality flags. The code uses a unified \"esco_export\" column to avoid crashes from naming inconsistencies. This CSV serves the your validation audit trail for stakeholders, for further analysis, or reference it when discussing extraction quality."
   ]
  },
  {
   "cell_type": "code",
   "execution_count": 9,
   "id": "f43fb2b9",
   "metadata": {},
   "outputs": [
    {
     "name": "stdout",
     "output_type": "stream",
     "text": [
      "Exported validation results to C:\\Users\\Kyle\\OneDrive\\Desktop\\Capstone\\fall-2025-group6\\src\\Data\\Manual Extraction\\ksa_enhanced\\laiser_similarity_validation.csv\n"
     ]
    }
   ],
   "source": [
    "OUT_PATH = DATA_PATH.parent / \"laiser_similarity_validation.csv\"\n",
    "\n",
    "# Create a stable ESCO export column (whatever you detected earlier)\n",
    "skills[\"esco_export\"] = skills[\"esco_tag\"]\n",
    "\n",
    "cols_out = [\n",
    "    \"afsc\",\n",
    "    \"text\",\n",
    "    \"evidence_snippet\",\n",
    "    \"esco_export\",\n",
    "    \"sim_skill_evidence\",\n",
    "    \"sim_skill_esco\",\n",
    "    \"flag_low_evidence\",\n",
    "    \"flag_low_esco\",\n",
    "]\n",
    "\n",
    "skills.to_csv(OUT_PATH, index=False, columns=cols_out)\n",
    "print(f\"Exported validation results to {OUT_PATH}\")\n"
   ]
  }
 ],
 "metadata": {
  "kernelspec": {
   "display_name": "capstone",
   "language": "python",
   "name": "python3"
  },
  "language_info": {
   "codemirror_mode": {
    "name": "ipython",
    "version": 3
   },
   "file_extension": ".py",
   "mimetype": "text/x-python",
   "name": "python",
   "nbconvert_exporter": "python",
   "pygments_lexer": "ipython3",
   "version": "3.10.18"
  }
 },
 "nbformat": 4,
 "nbformat_minor": 5
}
